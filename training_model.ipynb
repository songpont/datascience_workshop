{
  "nbformat": 4,
  "nbformat_minor": 0,
  "metadata": {
    "colab": {
      "provenance": [],
      "authorship_tag": "ABX9TyMYqzOkqBApffAPmRFJGIn2",
      "include_colab_link": true
    },
    "kernelspec": {
      "name": "python3",
      "display_name": "Python 3"
    },
    "language_info": {
      "name": "python"
    }
  },
  "cells": [
    {
      "cell_type": "markdown",
      "metadata": {
        "id": "view-in-github",
        "colab_type": "text"
      },
      "source": [
        "<a href=\"https://colab.research.google.com/github/songpont/report/blob/master/training_model.ipynb\" target=\"_parent\"><img src=\"https://colab.research.google.com/assets/colab-badge.svg\" alt=\"Open In Colab\"/></a>"
      ]
    },
    {
      "cell_type": "markdown",
      "source": [
        "# Step 1: Set Up Your Colab Environment\n",
        "When you start a Google Colab notebook, it's important to ensure that all necessary libraries are installed. Since Colab instances are ephemeral, you may need to install these libraries each time you start a new session."
      ],
      "metadata": {
        "id": "LZD7uJTvqiQf"
      }
    },
    {
      "cell_type": "code",
      "execution_count": 1,
      "metadata": {
        "colab": {
          "base_uri": "https://localhost:8080/"
        },
        "id": "34A9Emg3odzt",
        "outputId": "af0549f4-b557-4e0c-8e54-c04eefcbcfa4"
      },
      "outputs": [
        {
          "output_type": "stream",
          "name": "stdout",
          "text": [
            "Requirement already satisfied: numpy in /usr/local/lib/python3.10/dist-packages (1.23.5)\n",
            "Requirement already satisfied: pandas in /usr/local/lib/python3.10/dist-packages (1.5.3)\n",
            "Requirement already satisfied: scikit-learn in /usr/local/lib/python3.10/dist-packages (1.2.2)\n",
            "Requirement already satisfied: matplotlib in /usr/local/lib/python3.10/dist-packages (3.7.1)\n",
            "Requirement already satisfied: python-dateutil>=2.8.1 in /usr/local/lib/python3.10/dist-packages (from pandas) (2.8.2)\n",
            "Requirement already satisfied: pytz>=2020.1 in /usr/local/lib/python3.10/dist-packages (from pandas) (2023.3.post1)\n",
            "Requirement already satisfied: scipy>=1.3.2 in /usr/local/lib/python3.10/dist-packages (from scikit-learn) (1.11.4)\n",
            "Requirement already satisfied: joblib>=1.1.1 in /usr/local/lib/python3.10/dist-packages (from scikit-learn) (1.3.2)\n",
            "Requirement already satisfied: threadpoolctl>=2.0.0 in /usr/local/lib/python3.10/dist-packages (from scikit-learn) (3.2.0)\n",
            "Requirement already satisfied: contourpy>=1.0.1 in /usr/local/lib/python3.10/dist-packages (from matplotlib) (1.2.0)\n",
            "Requirement already satisfied: cycler>=0.10 in /usr/local/lib/python3.10/dist-packages (from matplotlib) (0.12.1)\n",
            "Requirement already satisfied: fonttools>=4.22.0 in /usr/local/lib/python3.10/dist-packages (from matplotlib) (4.46.0)\n",
            "Requirement already satisfied: kiwisolver>=1.0.1 in /usr/local/lib/python3.10/dist-packages (from matplotlib) (1.4.5)\n",
            "Requirement already satisfied: packaging>=20.0 in /usr/local/lib/python3.10/dist-packages (from matplotlib) (23.2)\n",
            "Requirement already satisfied: pillow>=6.2.0 in /usr/local/lib/python3.10/dist-packages (from matplotlib) (9.4.0)\n",
            "Requirement already satisfied: pyparsing>=2.3.1 in /usr/local/lib/python3.10/dist-packages (from matplotlib) (3.1.1)\n",
            "Requirement already satisfied: six>=1.5 in /usr/local/lib/python3.10/dist-packages (from python-dateutil>=2.8.1->pandas) (1.16.0)\n"
          ]
        }
      ],
      "source": [
        "!pip install numpy pandas scikit-learn matplotlib"
      ]
    },
    {
      "cell_type": "markdown",
      "source": [
        "This command installs the following libraries:\n",
        "\n",
        "*   numpy: For numerical operations.\n",
        "*   numpy: For numerical operations.\n",
        "*   pandas: For data manipulation and analysis.\n",
        "*   scikit-learn: For machine learning algorithms and data preprocessing.\n",
        "*   matplotlib: For plotting and visualizing data."
      ],
      "metadata": {
        "id": "ObyC5tt9qldN"
      }
    },
    {
      "cell_type": "markdown",
      "source": [
        "# Step 2: Import Libraries\n",
        "You need to import the libraries you'll use in your analysis:"
      ],
      "metadata": {
        "id": "ZaH7KgD-q9A-"
      }
    },
    {
      "cell_type": "code",
      "source": [
        "import numpy as np\n",
        "import pandas as pd\n",
        "import matplotlib.pyplot as plt\n",
        "from sklearn.model_selection import train_test_split\n",
        "from sklearn.linear_model import LinearRegression\n",
        "from sklearn.metrics import mean_squared_error"
      ],
      "metadata": {
        "id": "JIpw80ObolXS"
      },
      "execution_count": 2,
      "outputs": []
    },
    {
      "cell_type": "markdown",
      "source": [
        "These libraries provide various functionalities:\n",
        "\n",
        "*   **numpy** and **pandas** for handling and manipulating data.\n",
        "*   **matplotlib.pyplot** for plotting graphs.\n",
        "*   **train_test_split** for splitting the dataset into training and testing sets.\n",
        "*   **LinearRegression** for performing linear regression analysis.\n",
        "*   **mean_squared_error** for evaluating the performance of the model."
      ],
      "metadata": {
        "id": "zqA04aYUrCvl"
      }
    },
    {
      "cell_type": "markdown",
      "source": [
        "# Step 3: Load the California Housing Dataset"
      ],
      "metadata": {
        "id": "xcsqOiBHr3hl"
      }
    },
    {
      "cell_type": "code",
      "source": [
        "from sklearn.datasets import fetch_california_housing\n",
        "california_housing = fetch_california_housing()\n",
        "df = pd.DataFrame(california_housing.data, columns=california_housing.feature_names)\n",
        "df['MedHouseVal'] = california_housing.target"
      ],
      "metadata": {
        "id": "izqJTHDNonhx"
      },
      "execution_count": 4,
      "outputs": []
    },
    {
      "cell_type": "markdown",
      "source": [
        "Here, **fetch_california_housing()** loads the California Housing dataset from scikit-learn's dataset library. This dataset contains data related to housing in California, including metrics like median income and house value. We convert this data into a pandas DataFrame for easier manipulation."
      ],
      "metadata": {
        "id": "F0_DPGkBr74H"
      }
    },
    {
      "cell_type": "markdown",
      "source": [
        "# Step 4: Data Preprocessing\n",
        "Data preprocessing involves preparing your data for analysis. This can include cleaning data, selecting features, normalizing or standardizing data, etc. For simplicity, we'll focus on selecting features for our linear regression model."
      ],
      "metadata": {
        "id": "gqBJzeOysChr"
      }
    },
    {
      "cell_type": "code",
      "source": [
        "# Selecting a feature for simplicity\n",
        "X = df[['MedInc']]  # median income in block\n",
        "y = df['MedHouseVal']  # median house value for California districts"
      ],
      "metadata": {
        "id": "tpgv4Q_8pTAE"
      },
      "execution_count": 6,
      "outputs": []
    },
    {
      "cell_type": "markdown",
      "source": [
        "In this step, we're selecting 'MedInc' as our feature (independent variable) and 'MedHouseVal' as our target (dependent variable)."
      ],
      "metadata": {
        "id": "Xq2ExFuZsIWe"
      }
    },
    {
      "cell_type": "markdown",
      "source": [
        "# Step 5: Splitting the Dataset\n",
        "It's crucial to split your data into a training set and a test set. This allows you to train your model on one subset of the data and then test its performance on a separate subset."
      ],
      "metadata": {
        "id": "YNw38jmSsMYR"
      }
    },
    {
      "cell_type": "code",
      "source": [
        "X_train, X_test, y_train, y_test = train_test_split(X, y, test_size=0.2, random_state=42)"
      ],
      "metadata": {
        "id": "FbxJiBb-pe3Q"
      },
      "execution_count": 7,
      "outputs": []
    },
    {
      "cell_type": "markdown",
      "source": [
        "**train_test_split** randomly splits the data, with 80% used for training and 20% for testing. random_state is set for reproducibility of the results."
      ],
      "metadata": {
        "id": "wxfGL1FIsVId"
      }
    },
    {
      "cell_type": "markdown",
      "source": [
        "# Step 6: Train the Model\n",
        "Training the model involves using the training data to fit the model's parameters."
      ],
      "metadata": {
        "id": "Ef_b0mvgsbPL"
      }
    },
    {
      "cell_type": "code",
      "source": [
        "model = LinearRegression()\n",
        "model.fit(X_train, y_train)"
      ],
      "metadata": {
        "colab": {
          "base_uri": "https://localhost:8080/",
          "height": 75
        },
        "id": "TNfhcQljpjpg",
        "outputId": "ecd55970-862b-4282-f156-5789405fd9fd"
      },
      "execution_count": 8,
      "outputs": [
        {
          "output_type": "execute_result",
          "data": {
            "text/plain": [
              "LinearRegression()"
            ],
            "text/html": [
              "<style>#sk-container-id-1 {color: black;background-color: white;}#sk-container-id-1 pre{padding: 0;}#sk-container-id-1 div.sk-toggleable {background-color: white;}#sk-container-id-1 label.sk-toggleable__label {cursor: pointer;display: block;width: 100%;margin-bottom: 0;padding: 0.3em;box-sizing: border-box;text-align: center;}#sk-container-id-1 label.sk-toggleable__label-arrow:before {content: \"▸\";float: left;margin-right: 0.25em;color: #696969;}#sk-container-id-1 label.sk-toggleable__label-arrow:hover:before {color: black;}#sk-container-id-1 div.sk-estimator:hover label.sk-toggleable__label-arrow:before {color: black;}#sk-container-id-1 div.sk-toggleable__content {max-height: 0;max-width: 0;overflow: hidden;text-align: left;background-color: #f0f8ff;}#sk-container-id-1 div.sk-toggleable__content pre {margin: 0.2em;color: black;border-radius: 0.25em;background-color: #f0f8ff;}#sk-container-id-1 input.sk-toggleable__control:checked~div.sk-toggleable__content {max-height: 200px;max-width: 100%;overflow: auto;}#sk-container-id-1 input.sk-toggleable__control:checked~label.sk-toggleable__label-arrow:before {content: \"▾\";}#sk-container-id-1 div.sk-estimator input.sk-toggleable__control:checked~label.sk-toggleable__label {background-color: #d4ebff;}#sk-container-id-1 div.sk-label input.sk-toggleable__control:checked~label.sk-toggleable__label {background-color: #d4ebff;}#sk-container-id-1 input.sk-hidden--visually {border: 0;clip: rect(1px 1px 1px 1px);clip: rect(1px, 1px, 1px, 1px);height: 1px;margin: -1px;overflow: hidden;padding: 0;position: absolute;width: 1px;}#sk-container-id-1 div.sk-estimator {font-family: monospace;background-color: #f0f8ff;border: 1px dotted black;border-radius: 0.25em;box-sizing: border-box;margin-bottom: 0.5em;}#sk-container-id-1 div.sk-estimator:hover {background-color: #d4ebff;}#sk-container-id-1 div.sk-parallel-item::after {content: \"\";width: 100%;border-bottom: 1px solid gray;flex-grow: 1;}#sk-container-id-1 div.sk-label:hover label.sk-toggleable__label {background-color: #d4ebff;}#sk-container-id-1 div.sk-serial::before {content: \"\";position: absolute;border-left: 1px solid gray;box-sizing: border-box;top: 0;bottom: 0;left: 50%;z-index: 0;}#sk-container-id-1 div.sk-serial {display: flex;flex-direction: column;align-items: center;background-color: white;padding-right: 0.2em;padding-left: 0.2em;position: relative;}#sk-container-id-1 div.sk-item {position: relative;z-index: 1;}#sk-container-id-1 div.sk-parallel {display: flex;align-items: stretch;justify-content: center;background-color: white;position: relative;}#sk-container-id-1 div.sk-item::before, #sk-container-id-1 div.sk-parallel-item::before {content: \"\";position: absolute;border-left: 1px solid gray;box-sizing: border-box;top: 0;bottom: 0;left: 50%;z-index: -1;}#sk-container-id-1 div.sk-parallel-item {display: flex;flex-direction: column;z-index: 1;position: relative;background-color: white;}#sk-container-id-1 div.sk-parallel-item:first-child::after {align-self: flex-end;width: 50%;}#sk-container-id-1 div.sk-parallel-item:last-child::after {align-self: flex-start;width: 50%;}#sk-container-id-1 div.sk-parallel-item:only-child::after {width: 0;}#sk-container-id-1 div.sk-dashed-wrapped {border: 1px dashed gray;margin: 0 0.4em 0.5em 0.4em;box-sizing: border-box;padding-bottom: 0.4em;background-color: white;}#sk-container-id-1 div.sk-label label {font-family: monospace;font-weight: bold;display: inline-block;line-height: 1.2em;}#sk-container-id-1 div.sk-label-container {text-align: center;}#sk-container-id-1 div.sk-container {/* jupyter's `normalize.less` sets `[hidden] { display: none; }` but bootstrap.min.css set `[hidden] { display: none !important; }` so we also need the `!important` here to be able to override the default hidden behavior on the sphinx rendered scikit-learn.org. See: https://github.com/scikit-learn/scikit-learn/issues/21755 */display: inline-block !important;position: relative;}#sk-container-id-1 div.sk-text-repr-fallback {display: none;}</style><div id=\"sk-container-id-1\" class=\"sk-top-container\"><div class=\"sk-text-repr-fallback\"><pre>LinearRegression()</pre><b>In a Jupyter environment, please rerun this cell to show the HTML representation or trust the notebook. <br />On GitHub, the HTML representation is unable to render, please try loading this page with nbviewer.org.</b></div><div class=\"sk-container\" hidden><div class=\"sk-item\"><div class=\"sk-estimator sk-toggleable\"><input class=\"sk-toggleable__control sk-hidden--visually\" id=\"sk-estimator-id-1\" type=\"checkbox\" checked><label for=\"sk-estimator-id-1\" class=\"sk-toggleable__label sk-toggleable__label-arrow\">LinearRegression</label><div class=\"sk-toggleable__content\"><pre>LinearRegression()</pre></div></div></div></div></div>"
            ]
          },
          "metadata": {},
          "execution_count": 8
        }
      ]
    },
    {
      "cell_type": "markdown",
      "source": [
        "**LinearRegression()** creates an instance of the linear regression model. **fit()** trains this model on **X_train** and **y_train**."
      ],
      "metadata": {
        "id": "P-7jgb5mshae"
      }
    },
    {
      "cell_type": "markdown",
      "source": [
        "# Step 7: Model Evaluation\n",
        "After training, you evaluate the model's performance using the test data."
      ],
      "metadata": {
        "id": "RgJpMdo1staD"
      }
    },
    {
      "cell_type": "code",
      "source": [
        "y_pred = model.predict(X_test)\n",
        "mse = mean_squared_error(y_test, y_pred)\n",
        "print(f\"Mean Squared Error: {mse}\")"
      ],
      "metadata": {
        "colab": {
          "base_uri": "https://localhost:8080/"
        },
        "id": "0GVGz3rJps6R",
        "outputId": "ae8c676a-922d-4484-d380-75e0706f540d"
      },
      "execution_count": 9,
      "outputs": [
        {
          "output_type": "stream",
          "name": "stdout",
          "text": [
            "Mean Squared Error: 0.7091157771765549\n"
          ]
        }
      ]
    },
    {
      "cell_type": "markdown",
      "source": [
        "**predict()** is used to generate predictions on the test set, and **mean_squared_error** computes the mean squared error between the actual values **(y_test)** and the predicted values **(y_pred)**."
      ],
      "metadata": {
        "id": "h0K4vYcUszCl"
      }
    },
    {
      "cell_type": "markdown",
      "source": [
        "# Step 8: Visualize the Results\n",
        "Visualizing results can provide intuitive insights into how well your model has performed."
      ],
      "metadata": {
        "id": "pTB0jH-os9-4"
      }
    },
    {
      "cell_type": "code",
      "source": [
        "plt.scatter(X_test, y_test, color='black')\n",
        "plt.plot(X_test, y_pred, color='blue', linewidth=3)\n",
        "plt.xlabel('Number of Rooms')\n",
        "plt.ylabel('Median Value of Homes (in $1000s)')\n",
        "plt.title('Linear Regression on Boston Housing Dataset')\n",
        "plt.show()"
      ],
      "metadata": {
        "colab": {
          "base_uri": "https://localhost:8080/",
          "height": 472
        },
        "id": "EYg94Qxapu0U",
        "outputId": "3a405241-1aba-442e-817b-2e7e1e477591"
      },
      "execution_count": 10,
      "outputs": [
        {
          "output_type": "display_data",
          "data": {
            "text/plain": [
              "<Figure size 640x480 with 1 Axes>"
            ],
            "image/png": "[encoded data removed]"
          },
          "metadata": {}
        }
      ]
    },
    {
      "cell_type": "markdown",
      "source": [
        "This code plots the actual vs predicted values. The scatter plot shows the actual values, and the line plot shows the model's predictions."
      ],
      "metadata": {
        "id": "pWaSb3u6tDQb"
      }
    },
    {
      "cell_type": "markdown",
      "source": [
        "# Conclusion\n",
        "This step-by-step guide walks you through a basic machine learning project in Google Colab, from setting up your environment to training and evaluating a linear regression model. Each step is crucial for understanding and ensuring the success of your machine learning project. Remember, for more complex projects, you might need additional steps like feature engineering, hyperparameter tuning, and using more complex models."
      ],
      "metadata": {
        "id": "7M2hbU5AtGcd"
      }
    }
  ]
}