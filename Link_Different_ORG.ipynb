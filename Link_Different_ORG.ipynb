{
  "nbformat": 4,
  "nbformat_minor": 0,
  "metadata": {
    "colab": {
      "provenance": [],
      "authorship_tag": "ABX9TyOONVSu4CFa8rvKZ19WA1Jd",
      "include_colab_link": true
    },
    "kernelspec": {
      "name": "python3",
      "display_name": "Python 3"
    },
    "language_info": {
      "name": "python"
    }
  },
  "cells": [
    {
      "cell_type": "markdown",
      "metadata": {
        "id": "view-in-github",
        "colab_type": "text"
      },
      "source": [
        "<a href=\"https://colab.research.google.com/github/songpont/report/blob/master/Link_Different_ORG.ipynb\" target=\"_parent\"><img src=\"https://colab.research.google.com/assets/colab-badge.svg\" alt=\"Open In Colab\"/></a>"
      ]
    },
    {
      "cell_type": "markdown",
      "source": [
        "แสดงตัวอย่างการเชื่อมข้อมูลโครงการ จาก 2 แหล่ง ที่มีโครงสร้างบางอย่างต่างกัน ในกรณีนี้จะให้เห็น concept การพัฒนา library กลาง สำหรับเชื่อมข้อมูล 2 แหล่งที่มี ประเด็นของโครงการ ใช้ชื่อเรียกต่างกัน และการใช้งาน library ที่เขียนขึ้นอย่างง่าย"
      ],
      "metadata": {
        "id": "kRh_uTjJPXnI"
      }
    },
    {
      "cell_type": "code",
      "execution_count": 2,
      "metadata": {
        "colab": {
          "base_uri": "https://localhost:8080/"
        },
        "id": "0Hbt3-b-KwE1",
        "outputId": "be70ad78-1a32-4100-9996-363aae5a6964"
      },
      "outputs": [
        {
          "output_type": "stream",
          "name": "stdout",
          "text": [
            "Drive already mounted at /content/drive; to attempt to forcibly remount, call drive.mount(\"/content/drive\", force_remount=True).\n"
          ]
        }
      ],
      "source": [
        "#mount google drive\n",
        "from google.colab import drive\n",
        "drive.mount('/content/drive')\n",
        "import pandas as pd\n",
        "# Adjust the path according to your Google Drive folder structure\n",
        "df1 = pd.read_csv('/content/drive/My Drive/nhco_lab/p_project.csv')\n",
        "df2 = pd.read_csv('/content/drive/My Drive/nhco_lab/t_project.csv')"
      ]
    },
    {
      "cell_type": "code",
      "source": [
        "#ดูโครงสร้างข้อมูลของ df1 หรือ dataset ชื่อ p_project.csv และ ดูโครงสร้างข้อมูลของ df2 หรือ dataset ชื่อ t_project.csv\n",
        "print ('show data from p_project.csv')\n",
        "print (df1.head(10))\n",
        "print ('-------------------------------------------------------------')\n",
        "print ('show data from t_project.csv')\n",
        "print (df2.head(10))"
      ],
      "metadata": {
        "colab": {
          "base_uri": "https://localhost:8080/"
        },
        "id": "cR_bBDOVO7Ee",
        "outputId": "cc595497-f35f-4391-c089-c5ffbadc3903"
      },
      "execution_count": 5,
      "outputs": [
        {
          "output_type": "stream",
          "name": "stdout",
          "text": [
            "show data from p_project.csv\n",
            "   pid         p_name       p_issue p_sub_district      p_district  p_province\n",
            "0    1  โครงการที่ 14   สิ่งแวดล้อม       บ้านต้าย          พนมทวน  ปราจีนบุรี\n",
            "1    2   โครงการที่ 3  การจัดการน้ำ       เหล่างาม   เดิมบางนางบวช    นราธิวาส\n",
            "2    3  โครงการที่ 12    ผู้สูงอายุ        ธาตุทอง  เมืองเชียงใหม่   เชียงใหม่\n",
            "3    4   โครงการที่ 3  การจัดการน้ำ        ท่าหลวง          แม่ริม  นครราชสีมา\n",
            "4    5  โครงการที่ 19   สิ่งแวดล้อม        หนองครก       ขามทะเลสอ     หนองคาย\n",
            "5    6  โครงการที่ 11  การจัดการน้ำ         บางขัน        เมืองเลย   กาญจนบุรี\n",
            "6    7   โครงการที่ 4   เหล้าบุหรี่      บุพราหมณ์          ไทรงาม       สงขลา\n",
            "7    8   โครงการที่ 1    ผู้สูงอายุ         ไทรทอง  เมืองสมุทรสาคร      ชลบุรี\n",
            "8    9   โครงการที่ 7   เหล้าบุหรี่        ไชยมงคล          นากลาง    เชียงราย\n",
            "9   10   โครงการที่ 2  การจัดการน้ำ       ทวีวัฒนา       บ้านโพธิ์    ศรีสะเกษ\n",
            "-------------------------------------------------------------\n",
            "show data from t_project.csv\n",
            "   tid         t_name             t_issue t_sub_district        t_district  \\\n",
            "0    1  โครงการที่ 17        ปัจจัยเสี่ยง       ลาดพร้าว            ป่าบอน   \n",
            "1    2   โครงการที่ 7        ปัจจัยเสี่ยง        คลองสาม             สบเมย   \n",
            "2    3   โครงการที่ 5  ความมั่นคงทางอาหาร        น้ำแก่น          บางปะอิน   \n",
            "3    4  โครงการที่ 18                 น้ำ          นาสวน            น้ำพอง   \n",
            "4    5  โครงการที่ 11                 ขยะ          ซำยาง  เมืองหนองบัวลำภู   \n",
            "5    6   โครงการที่ 2         บุหรี่ไฟฟ้า         รังสิต             มะนัง   \n",
            "6    7  โครงการที่ 10        สังคมสูงอายุ       หัวเมือง           หนองแซง   \n",
            "7    8   โครงการที่ 2                 น้ำ           ขยาย            แม่อาย   \n",
            "8    9  โครงการที่ 13              เยาวชน           นาดี       พรานกระต่าย   \n",
            "9   10   โครงการที่ 3        ปัจจัยเสี่ยง       เมืองชุม         เหนือคลอง   \n",
            "\n",
            "        t_province  \n",
            "0         มุกดาหาร  \n",
            "1        มหาสารคาม  \n",
            "2         ศรีสะเกษ  \n",
            "3          อ่างทอง  \n",
            "4           นครพนม  \n",
            "5          สระบุรี  \n",
            "6    กรุงเทพมหานคร  \n",
            "7       นครราชสีมา  \n",
            "8           นครพนม  \n",
            "9  พระนครศรีอยุธยา  \n"
          ]
        }
      ]
    },
    {
      "cell_type": "code",
      "source": [
        "# จากข้อมูล ทั้ง 2 แหล่งมีโครงสร้างคล้ายกัน ที่น่าสนใจคือ issue ที่มีการใช้ wording ที่ต่างกัน\n",
        "# ลองดู issue จากทั้ง 2 แหล่ง\n",
        "# Extract unique values from each column\n",
        "unique_p_issues = df1['p_issue'].unique()\n",
        "unique_t_issues = df2['t_issue'].unique()\n",
        "\n",
        "# Display the unique values\n",
        "print(\"Unique values in p_issue from df1:\")\n",
        "print(unique_p_issues)\n",
        "print(\"\\nUnique values in t_issue from df2:\")\n",
        "print(unique_t_issues)"
      ],
      "metadata": {
        "colab": {
          "base_uri": "https://localhost:8080/"
        },
        "id": "8yrcLEyOPKQ0",
        "outputId": "c047ab49-d196-4cc4-9baf-3f677ccdd422"
      },
      "execution_count": 7,
      "outputs": [
        {
          "output_type": "stream",
          "name": "stdout",
          "text": [
            "Unique values in p_issue from df1:\n",
            "['สิ่งแวดล้อม' 'การจัดการน้ำ' 'ผู้สูงอายุ' 'เหล้าบุหรี่' 'เด็กและเยาวชน'\n",
            " 'สุขภาพกาย']\n",
            "\n",
            "Unique values in t_issue from df2:\n",
            "['ปัจจัยเสี่ยง' 'ความมั่นคงทางอาหาร' 'น้ำ' 'ขยะ' 'บุหรี่ไฟฟ้า'\n",
            " 'สังคมสูงอายุ' 'เยาวชน' 'โรคไม่ติดต่อ']\n"
          ]
        }
      ]
    },
    {
      "cell_type": "markdown",
      "source": [
        "สมมุติว่า เราสามารถจัดกลุ่มประเด็นได้ดังนี้ ในความเป็นจริงเราต้องกำหนด common word ที่ใช้ร่วมกันด้วย เพราะหากมีข้อมูลมากกว่า 2 แหล่ง common word จะเป็น wording กลางในการเชื่อม เช่น common_word = น้ำ เชื่อมไปยัง p_issue = การจัดการน้ำ และ t_issue = น้ำ\n",
        "\n",
        "## p_issue = การจัดการน้ำ <-----> **common_word = น้ำ** <-----> t_issue = น้ำ"
      ],
      "metadata": {
        "id": "o8s5Pu9XSlLK"
      }
    },
    {
      "cell_type": "markdown",
      "source": [
        "library ที่ทำตั้งต้นจากตัวอย่างชุดข้อมูลมีดังนี้\n",
        "```\n",
        "common_word = สิ่งแวดล้อม มี issue สิ่งแวดล้อม น้ำ ขยะ การจัดการน้ำ\n",
        "common_word = น้ำ มี issue น้ำ การจัดการน้ำ\n",
        "common_word = อาหาร มี issue ความมั่นคงทางอาหาร\n",
        "common_word = ขยะ มี issue ขยะ\n",
        "common_word = ผู้สูงอายุ มี issue ผู้สูงอายุ สังคมสูงอายุ\n",
        "common_word = เยาวชน มี issue เด็กและเยาวชน เยาวชน\n",
        "common_word = สุขภาพกาย มี issue สุขภาพกาย โรคไม่ติดต่อ\n",
        "common_word = บุหรี่ มี issue เหล้าบุหรี่ บุหรี่ไฟฟ้า\n",
        "common_word = ปัจจัยเสี่ยง มี issue เหล้าบุหรี่ บุหรี่ไฟฟ้า\n",
        "common_word = สุขภาพกาย มี issue โรคไม่ติดต่อ สุขภาพกาย\n",
        "common_word = เด็ก มี issue เด็กและเยาวชน เยาวชน\n",
        "```\n",
        "\n"
      ],
      "metadata": {
        "id": "OBdzBTf6dOgz"
      }
    },
    {
      "cell_type": "markdown",
      "source": [
        "Code Version 2\n",
        "ใช้หลักการ search และหาจาก common_word,p_issue, และ t_issue"
      ],
      "metadata": {
        "id": "vYpLM-1sgKS4"
      }
    },
    {
      "cell_type": "code",
      "source": [
        "class IssueLinkerEnhanced:\n",
        "    def __init__(self):\n",
        "        # กำหนดความสัมพันธ์ระหว่าง common_word และ issues\n",
        "        self.common_word_mapping = {\n",
        "            \"สิ่งแวดล้อม\": [\"สิ่งแวดล้อม\", \"น้ำ\", \"ขยะ\", \"การจัดการน้ำ\"],\n",
        "            \"น้ำ\": [\"น้ำ\", \"การจัดการน้ำ\"],\n",
        "            \"อาหาร\": [\"ความมั่นคงทางอาหาร\"],\n",
        "            \"ขยะ\": [\"ขยะ\"],\n",
        "            \"ผู้สูงอายุ\": [\"ผู้สูงอายุ\", \"สังคมสูงอายุ\"],\n",
        "            \"เยาวชน\": [\"เด็กและเยาวชน\", \"เยาวชน\"],\n",
        "            \"สุขภาพกาย\": [\"สุขภาพกาย\", \"โรคไม่ติดต่อ\"],\n",
        "            \"บุหรี่\": [\"เหล้าบุหรี่\", \"บุหรี่ไฟฟ้า\"],\n",
        "            \"ปัจจัยเสี่ยง\": [\"เหล้าบุหรี่\", \"บุหรี่ไฟฟ้า\"],\n",
        "            \"เด็ก\": [\"เด็กและเยาวชน\", \"เยาวชน\"]\n",
        "        }\n",
        "\n",
        "    def find_related_issues(self, search_term):\n",
        "        # ค้นหาประเด็นที่เกี่ยวข้องกับคำค้นหา\n",
        "        related_issues = set()\n",
        "        for common_word, issues in self.common_word_mapping.items():\n",
        "            if search_term in common_word:\n",
        "                related_issues.update(issues)\n",
        "            else:\n",
        "                for issue in issues:\n",
        "                    if search_term in issue:\n",
        "                        related_issues.add(issue)\n",
        "        return list(related_issues)\n"
      ],
      "metadata": {
        "id": "DQmwxouhgJye"
      },
      "execution_count": 21,
      "outputs": []
    },
    {
      "cell_type": "code",
      "source": [
        "# ตัวอย่างการใช้งาน library\n",
        "issue_linker_enhanced = IssueLinkerEnhanced()\n",
        "search_term = \"สูงอายุ\"\n",
        "related_issues = issue_linker_enhanced.find_related_issues(search_term)\n",
        "\n",
        "related_issues  # แสดงผลลัพธ์ของประเด็นที่เกี่ยวข้องกับคำค้นหา \"สูงอายุ\""
      ],
      "metadata": {
        "colab": {
          "base_uri": "https://localhost:8080/"
        },
        "id": "HfxylkpBgiEC",
        "outputId": "c2ff917b-7e51-4383-8c6c-82c361f0c195"
      },
      "execution_count": 13,
      "outputs": [
        {
          "output_type": "execute_result",
          "data": {
            "text/plain": [
              "['สังคมสูงอายุ', 'ผู้สูงอายุ']"
            ]
          },
          "metadata": {},
          "execution_count": 13
        }
      ]
    },
    {
      "cell_type": "markdown",
      "source": [
        "ทดสอบ Code และ Library ผ่านการกำหนดค่าในตัวแปร search_term\n",
        "```\n",
        "ในตัวอย่าง search_term = \"สิ่งแวดล้อม\"\n",
        "```"
      ],
      "metadata": {
        "id": "kNqB9jjtje4e"
      }
    },
    {
      "cell_type": "code",
      "source": [
        "# อ่าน df1 และ df2 แล้ว\n",
        "# df1 = pd.read_csv('/content/drive/My Drive/nhco_lab/p_project.csv')\n",
        "# df2 = pd.read_csv('/content/drive/My Drive/nhco_lab/t_project.csv')\n",
        "\n",
        "# ใช้ IssueLinkerEnhanced ที่เราได้สร้างไว้\n",
        "issue_linker_enhanced = IssueLinkerEnhanced()\n",
        "\n",
        "# ตัวแปร search_term ที่ต้องการค้นหา\n",
        "search_term = \"สิ่งแวดล้อม\"  # แทนที่ด้วยคำค้นหาของคุณ\n",
        "\n",
        "# ค้นหา issues ที่เกี่ยวข้อง\n",
        "related_issues = issue_linker_enhanced.find_related_issues(search_term)\n",
        "\n",
        "# ฟิลเตอร์ข้อมูลจาก dataframe ที่มี issues ที่เกี่ยวข้อง\n",
        "filtered_df1 = df1[df1['p_issue'].isin(related_issues)].copy()\n",
        "filtered_df1 = filtered_df1.rename(columns={'pid': 'id', 'p_name': 'name', 'p_issue': 'issue',\n",
        "                                            'p_sub_district': 'sub_district', 'p_district': 'district',\n",
        "                                            'p_province': 'province'})\n",
        "filtered_df1['source'] = 'p_project'  # เพิ่ม column ใหม่แสดงที่มาของข้อมูล\n",
        "\n",
        "filtered_df2 = df2[df2['t_issue'].isin(related_issues)].copy()\n",
        "filtered_df2 = filtered_df2.rename(columns={'tid': 'id', 't_name': 'name', 't_issue': 'issue',\n",
        "                                            't_sub_district': 'sub_district', 't_district': 'district',\n",
        "                                            't_province': 'province'})\n",
        "filtered_df2['source'] = 't_project'  # เพิ่ม column ใหม่แสดงที่มาของข้อมูล\n",
        "\n",
        "# รวม filtered_df1 และ filtered_df2 เป็น df3\n",
        "df3 = pd.concat([filtered_df1, filtered_df2], axis=0, ignore_index=True)\n",
        "\n",
        "# แสดงผลลัพธ์\n",
        "print(\"Combined DataFrame (df3) with New Column Names and Source Column:\")\n",
        "print(df3.head())  # แสดงผลลัพธ์บางส่วนของ df3\n",
        "# แต่ละจังหวัดมีกี่โครงการ\n",
        "province_count = df3['province'].value_counts()\n",
        "print ('--------------------------------------')\n",
        "print ('Amount of records in each province')\n",
        "print(province_count)\n",
        "# แต่ละแหล่งข้อมูลมีกี่รายการ\n",
        "source_count = df3['source'].value_counts()\n",
        "print ('--------------------------------------')\n",
        "print ('Amount of records in each source')\n",
        "print(source_count)\n"
      ],
      "metadata": {
        "colab": {
          "base_uri": "https://localhost:8080/"
        },
        "id": "TnK2ynEHjnpB",
        "outputId": "2a3968f7-1ede-4bea-a818-abf89586bce4"
      },
      "execution_count": 31,
      "outputs": [
        {
          "output_type": "stream",
          "name": "stdout",
          "text": [
            "Combined DataFrame (df3) with New Column Names and Source Column:\n",
            "   id           name         issue sub_district       district    province  \\\n",
            "0   1  โครงการที่ 14   สิ่งแวดล้อม     บ้านต้าย         พนมทวน  ปราจีนบุรี   \n",
            "1   2   โครงการที่ 3  การจัดการน้ำ     เหล่างาม  เดิมบางนางบวช    นราธิวาส   \n",
            "2   4   โครงการที่ 3  การจัดการน้ำ      ท่าหลวง         แม่ริม  นครราชสีมา   \n",
            "3   5  โครงการที่ 19   สิ่งแวดล้อม      หนองครก      ขามทะเลสอ     หนองคาย   \n",
            "4   6  โครงการที่ 11  การจัดการน้ำ       บางขัน       เมืองเลย   กาญจนบุรี   \n",
            "\n",
            "      source  \n",
            "0  p_project  \n",
            "1  p_project  \n",
            "2  p_project  \n",
            "3  p_project  \n",
            "4  p_project  \n",
            "--------------------------------------\n",
            "Amount of records in each province\n",
            "นครราชสีมา       42\n",
            "ศรีสะเกษ         36\n",
            "เชียงใหม่        36\n",
            "นครศรีธรรมราช    35\n",
            "อุบลราชธานี      34\n",
            "                 ..\n",
            "นครนายก           3\n",
            "ตราด              3\n",
            "ระนอง             3\n",
            "สตูล              2\n",
            "ชุมพร             2\n",
            "Name: province, Length: 77, dtype: int64\n",
            "--------------------------------------\n",
            "Amount of records in each source\n",
            "p_project    647\n",
            "t_project    517\n",
            "Name: source, dtype: int64\n"
          ]
        }
      ]
    },
    {
      "cell_type": "code",
      "source": [],
      "metadata": {
        "id": "V6i_8uG7mn06"
      },
      "execution_count": null,
      "outputs": []
    }
  ]
}